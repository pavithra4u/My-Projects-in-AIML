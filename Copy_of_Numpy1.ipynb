{
  "nbformat": 4,
  "nbformat_minor": 0,
  "metadata": {
    "colab": {
      "provenance": []
    },
    "kernelspec": {
      "name": "python3",
      "display_name": "Python 3"
    },
    "language_info": {
      "name": "python"
    }
  },
  "cells": [
    {
      "cell_type": "code",
      "execution_count": null,
      "metadata": {
        "id": "lKyyvo-Na5YV"
      },
      "outputs": [],
      "source": [
        "import numpy as np"
      ]
    },
    {
      "cell_type": "markdown",
      "source": [
        "version"
      ],
      "metadata": {
        "id": "fSH1Wr5tbHGO"
      }
    },
    {
      "cell_type": "code",
      "source": [
        "np.__version__"
      ],
      "metadata": {
        "colab": {
          "base_uri": "https://localhost:8080/",
          "height": 35
        },
        "id": "qXZJM6A0bGK0",
        "outputId": "841295bc-8cf3-4941-cc75-6afc63ac28fe"
      },
      "execution_count": null,
      "outputs": [
        {
          "output_type": "execute_result",
          "data": {
            "text/plain": [
              "'1.23.5'"
            ],
            "application/vnd.google.colaboratory.intrinsic+json": {
              "type": "string"
            }
          },
          "metadata": {},
          "execution_count": 2
        }
      ]
    },
    {
      "cell_type": "markdown",
      "source": [
        "# **scalar is 0 dimensional,  vector is 1 dimensional, matrix is 2 dimensional, tensor is 3 dimensional, so square brackets will be used according to the dim no. like vecot [   ] , matrix [[    ]] , tensor [[[      ]]] .**"
      ],
      "metadata": {
        "id": "1ii0eTnUb85h"
      }
    },
    {
      "cell_type": "markdown",
      "source": [
        "# **scalar**"
      ],
      "metadata": {
        "id": "6dy50dC_dSKx"
      }
    },
    {
      "cell_type": "code",
      "source": [
        "a= np.array(20)\n",
        "print(a)\n",
        "print(a.size)\n",
        "print(a.shape)\n",
        "print(a.ndim)\n",
        "print(a.dtype)"
      ],
      "metadata": {
        "colab": {
          "base_uri": "https://localhost:8080/"
        },
        "id": "26jMt3y9bMqT",
        "outputId": "728be4cf-5968-4bc1-b56c-72e3c62f3683"
      },
      "execution_count": null,
      "outputs": [
        {
          "output_type": "stream",
          "name": "stdout",
          "text": [
            "20\n",
            "1\n",
            "()\n",
            "0\n",
            "int64\n"
          ]
        }
      ]
    },
    {
      "cell_type": "markdown",
      "source": [
        "# **vector**"
      ],
      "metadata": {
        "id": "NKPk6CwXdWTx"
      }
    },
    {
      "cell_type": "code",
      "source": [
        "b= np.array([1,2,3,4,5])\n",
        "print(b)\n",
        "print(b.size)\n",
        "print(b.shape)\n",
        "print(b.ndim)\n",
        "print(b.dtype)\n",
        "print(len(b))\n",
        "type(b)"
      ],
      "metadata": {
        "colab": {
          "base_uri": "https://localhost:8080/"
        },
        "id": "EO33tedtdYhB",
        "outputId": "90616d7c-5c0d-4ced-9f87-c3faafe60637"
      },
      "execution_count": null,
      "outputs": [
        {
          "output_type": "stream",
          "name": "stdout",
          "text": [
            "[1 2 3 4 5]\n",
            "5\n",
            "(5,)\n",
            "1\n",
            "int64\n",
            "5\n"
          ]
        },
        {
          "output_type": "execute_result",
          "data": {
            "text/plain": [
              "numpy.ndarray"
            ]
          },
          "metadata": {},
          "execution_count": 11
        }
      ]
    },
    {
      "cell_type": "markdown",
      "source": [
        "# **Matrix**\n",
        "\n",
        "Note: if column wise no of elements does not match then c will be considered as object instead of matrix, also any other type can be given instaed of numerics in matrix which will be considered as object or string instead of matrix, in this kind of scenarios it will not throw any errors."
      ],
      "metadata": {
        "id": "UCSiKuVNd3Xf"
      }
    },
    {
      "cell_type": "code",
      "source": [
        "c= np.array([[1,2,3], [4,5,6], [7,8,9]])\n",
        "print(c)\n",
        "print(c.size)\n",
        "print(c.shape)\n",
        "print(c.ndim)\n",
        "print(c.dtype)\n",
        "print(len(c))\n",
        "type(c)"
      ],
      "metadata": {
        "colab": {
          "base_uri": "https://localhost:8080/"
        },
        "id": "UZfhhs1VeEt3",
        "outputId": "3509ba93-fbc3-464a-e7bb-290e48403fa3"
      },
      "execution_count": null,
      "outputs": [
        {
          "output_type": "stream",
          "name": "stdout",
          "text": [
            "[[1 2 3]\n",
            " [4 5 6]\n",
            " [7 8 9]]\n",
            "9\n",
            "(3, 3)\n",
            "2\n",
            "int64\n",
            "3\n"
          ]
        },
        {
          "output_type": "execute_result",
          "data": {
            "text/plain": [
              "numpy.ndarray"
            ]
          },
          "metadata": {},
          "execution_count": 12
        }
      ]
    },
    {
      "cell_type": "markdown",
      "source": [
        "# **Tensor**\n",
        "\n",
        "Note: The shape of matrix in tensor should be the same.\n",
        "\n",
        "Reshape: reshape the type into specified format. reshape(row,col) axis 0 is no of rows, axis 1 is no of columns\n",
        "\n",
        "\n",
        "reshape(no.of matrix,rows,columns)\n",
        "\n",
        "arange(start element , end-1 element , elements jump with the range)"
      ],
      "metadata": {
        "id": "mlxltkTc8wMh"
      }
    },
    {
      "cell_type": "code",
      "source": [
        "d=np.array([[[1,2,3],[3,4,5],[6,7,8]]])\n",
        "print(d)\n",
        "print(d.reshape(3,3,1))\n",
        "print(d.size)\n",
        "print(d.shape)\n",
        "print(d.ndim)\n",
        "print(d.dtype)\n",
        "print(len(d))\n",
        "type(d)\n",
        "\n",
        "\n",
        "d1=np.arange(1,37).reshape(3,3,4)\n",
        "print(d1)\n",
        "\n",
        "\n",
        "\n",
        "\n",
        "\n",
        "\n",
        "e= np.arange(1,13).reshape(4,3)\n",
        "print(e)\n",
        "print(e.shape[0])\n",
        "f= np.arange(1,13).reshape(1,-1) # we can use np.newaxis instead of reshape in this statement\n",
        "print(f)\n",
        "print (\"arange\")\n",
        "f1= np.arange(1,13)\n",
        "print(f1)\n",
        "print(\"newaxis\")\n",
        "print(f1[ : ,np.newaxis])\n",
        "f2= np.arange(1,13).reshape(-1,1)\n",
        "print(f2)"
      ],
      "metadata": {
        "colab": {
          "base_uri": "https://localhost:8080/"
        },
        "id": "yTswAKS-83t_",
        "outputId": "7fbad2c7-ef9b-4e91-958a-b010c99f9e4b"
      },
      "execution_count": null,
      "outputs": [
        {
          "output_type": "stream",
          "name": "stdout",
          "text": [
            "[[[1 2 3]\n",
            "  [3 4 5]\n",
            "  [6 7 8]]]\n",
            "[[[1]\n",
            "  [2]\n",
            "  [3]]\n",
            "\n",
            " [[3]\n",
            "  [4]\n",
            "  [5]]\n",
            "\n",
            " [[6]\n",
            "  [7]\n",
            "  [8]]]\n",
            "9\n",
            "(1, 3, 3)\n",
            "3\n",
            "int64\n",
            "1\n",
            "[[[ 1  2  3  4]\n",
            "  [ 5  6  7  8]\n",
            "  [ 9 10 11 12]]\n",
            "\n",
            " [[13 14 15 16]\n",
            "  [17 18 19 20]\n",
            "  [21 22 23 24]]\n",
            "\n",
            " [[25 26 27 28]\n",
            "  [29 30 31 32]\n",
            "  [33 34 35 36]]]\n",
            "[[ 1  2  3]\n",
            " [ 4  5  6]\n",
            " [ 7  8  9]\n",
            " [10 11 12]]\n",
            "4\n",
            "[[ 1  2  3  4  5  6  7  8  9 10 11 12]]\n",
            "arange\n",
            "[ 1  2  3  4  5  6  7  8  9 10 11 12]\n",
            "newaxis\n",
            "[[ 1]\n",
            " [ 2]\n",
            " [ 3]\n",
            " [ 4]\n",
            " [ 5]\n",
            " [ 6]\n",
            " [ 7]\n",
            " [ 8]\n",
            " [ 9]\n",
            " [10]\n",
            " [11]\n",
            " [12]]\n",
            "[[ 1]\n",
            " [ 2]\n",
            " [ 3]\n",
            " [ 4]\n",
            " [ 5]\n",
            " [ 6]\n",
            " [ 7]\n",
            " [ 8]\n",
            " [ 9]\n",
            " [10]\n",
            " [11]\n",
            " [12]]\n"
          ]
        }
      ]
    },
    {
      "cell_type": "markdown",
      "source": [
        "## **Multiplication**"
      ],
      "metadata": {
        "id": "SRAfSvRTD6Kf"
      }
    },
    {
      "cell_type": "code",
      "source": [
        "a1=np.array([[1,2],[3,4],[5,6]])\n",
        "a2=np.array([[7,8],[9,0],[0,1]])\n",
        "a3=np.array([[1,2,3],[4,5,6]])\n",
        "print(a1)\n",
        "print(a2)\n",
        "print(a3)\n",
        "print(a1*a2)\n",
        "a4=np.dot(a1,a3)\n",
        "print(a4)"
      ],
      "metadata": {
        "colab": {
          "base_uri": "https://localhost:8080/"
        },
        "id": "A8sstRZxEGJD",
        "outputId": "f74671d5-6c81-4c23-8b3a-91bfad057534"
      },
      "execution_count": null,
      "outputs": [
        {
          "output_type": "stream",
          "name": "stdout",
          "text": [
            "[[1 2]\n",
            " [3 4]\n",
            " [5 6]]\n",
            "[[7 8]\n",
            " [9 0]\n",
            " [0 1]]\n",
            "[[1 2 3]\n",
            " [4 5 6]]\n",
            "[[ 7 16]\n",
            " [27  0]\n",
            " [ 0  6]]\n",
            "[[ 9 12 15]\n",
            " [19 26 33]\n",
            " [29 40 51]]\n"
          ]
        }
      ]
    },
    {
      "cell_type": "markdown",
      "source": [
        "# **Broadcasting**\n",
        "\n",
        "\n",
        "For Machine Learning : y=mx+c"
      ],
      "metadata": {
        "id": "Ln3aPLzWGFAi"
      }
    },
    {
      "cell_type": "code",
      "source": [
        "b1=np.array([[1,2],[3,4],[5,6]])\n",
        "print(b1)\n",
        "b2=np.array([2,2])\n",
        "print(b2)\n",
        "print(b1+b2)\n",
        "b3=np.array([[1,2],[1,2],[1,2]])\n",
        "print(b1+b3)\n",
        "b4=np.array([[1],[2],[3]])\n",
        "print(b1+b4)\n",
        "b5=np.array([[3],[3],[3]])\n",
        "print(b1+b5)\n",
        "\n"
      ],
      "metadata": {
        "colab": {
          "base_uri": "https://localhost:8080/"
        },
        "id": "huXojv-LGKF2",
        "outputId": "7eaee6be-bb37-4abf-9612-f99e8fa0f632"
      },
      "execution_count": null,
      "outputs": [
        {
          "output_type": "stream",
          "name": "stdout",
          "text": [
            "[[1 2]\n",
            " [3 4]\n",
            " [5 6]]\n",
            "[2 2]\n",
            "[[3 4]\n",
            " [5 6]\n",
            " [7 8]]\n",
            "[[2 4]\n",
            " [4 6]\n",
            " [6 8]]\n",
            "[[2 3]\n",
            " [5 6]\n",
            " [8 9]]\n",
            "[[4 5]\n",
            " [6 7]\n",
            " [8 9]]\n"
          ]
        }
      ]
    },
    {
      "cell_type": "markdown",
      "source": [
        "# **Stacking**\n",
        "\n",
        "np.vstack , np.hstack  = vertical and horizontal stacking"
      ],
      "metadata": {
        "id": "Mosx06zIJ4hk"
      }
    },
    {
      "cell_type": "code",
      "source": [
        "c1=np.array([[1,2],[3,4],[5,6]])\n",
        "print(c1,'\\n\\n')\n",
        "c2=np.array([2,2])\n",
        "print(c2, '\\n\\n\\n\\n')\n",
        "print(np.vstack([c1,c2]),'\\n\\n\\n')\n",
        "c3=np.array([3,3])\n",
        "print(np.hstack([c3,c2]))\n"
      ],
      "metadata": {
        "colab": {
          "base_uri": "https://localhost:8080/"
        },
        "id": "bynVZoY7LNNk",
        "outputId": "713036ae-ab54-44a1-e486-2ee47cb05d77"
      },
      "execution_count": null,
      "outputs": [
        {
          "output_type": "stream",
          "name": "stdout",
          "text": [
            "[[1 2]\n",
            " [3 4]\n",
            " [5 6]] \n",
            "\n",
            "\n",
            "[2 2] \n",
            "\n",
            "\n",
            "\n",
            "\n",
            "[[1 2]\n",
            " [3 4]\n",
            " [5 6]\n",
            " [2 2]] \n",
            "\n",
            "\n",
            "\n",
            "[3 3 2 2]\n"
          ]
        }
      ]
    },
    {
      "cell_type": "markdown",
      "source": [
        "# **Axis wise sum,mean,max,min operations in Matrix**\n",
        "\n",
        "np.zeros(1,3) , np.ones(3,3) - this all gives matrix with zeros and ones\n",
        "\n",
        "np.where - conditional operation on elements in matrix"
      ],
      "metadata": {
        "id": "PsrP94anOHf8"
      }
    },
    {
      "cell_type": "code",
      "source": [
        "d1=np.array([[1,2,3],[3,4,5],[5,6,7]])\n",
        "print(np.sum(d1,axis=0))\n",
        "print(np.sum(d1,axis=1))\n",
        "print(np.sum(d1,axis=1,keepdims=True))\n",
        "print(np.where(d1>3,d1**2,d1))"
      ],
      "metadata": {
        "colab": {
          "base_uri": "https://localhost:8080/"
        },
        "id": "0Y27RKhKPg5j",
        "outputId": "ec3df824-13e8-495d-a8ec-4a2cf0c3a5ef"
      },
      "execution_count": null,
      "outputs": [
        {
          "output_type": "stream",
          "name": "stdout",
          "text": [
            "[ 9 12 15]\n",
            "[ 6 12 18]\n",
            "[[ 6]\n",
            " [12]\n",
            " [18]]\n",
            "[[ 1  2  3]\n",
            " [ 3 16 25]\n",
            " [25 36 49]]\n"
          ]
        }
      ]
    },
    {
      "cell_type": "code",
      "source": [
        "np.eye(3)  # identical matrix"
      ],
      "metadata": {
        "colab": {
          "base_uri": "https://localhost:8080/"
        },
        "id": "krYyHJ49ROB-",
        "outputId": "6724d9ce-4dcf-4f2a-e157-b5bbf39f8b47"
      },
      "execution_count": null,
      "outputs": [
        {
          "output_type": "execute_result",
          "data": {
            "text/plain": [
              "array([[1., 0., 0.],\n",
              "       [0., 1., 0.],\n",
              "       [0., 0., 1.]])"
            ]
          },
          "metadata": {},
          "execution_count": 35
        }
      ]
    },
    {
      "cell_type": "markdown",
      "source": [
        "# **Slicing**"
      ],
      "metadata": {
        "id": "_O99aMplTPEo"
      }
    },
    {
      "cell_type": "code",
      "source": [
        "s=np.arange(1,13).reshape(3,4)\n",
        "print(s,'\\n\\n\\n')\n",
        "print(s[ 0 , :], '\\n\\n')\n",
        "print(s[0:2 , 1:4],'\\n\\n')\n",
        "print(s[-2:,-2:])"
      ],
      "metadata": {
        "colab": {
          "base_uri": "https://localhost:8080/"
        },
        "id": "VUb_-tttTTVd",
        "outputId": "9839d19b-121b-4f28-f44e-2135955b130d"
      },
      "execution_count": null,
      "outputs": [
        {
          "output_type": "stream",
          "name": "stdout",
          "text": [
            "[[ 1  2  3  4]\n",
            " [ 5  6  7  8]\n",
            " [ 9 10 11 12]] \n",
            "\n",
            "\n",
            "\n",
            "[1 2 3 4] \n",
            "\n",
            "\n",
            "[[2 3 4]\n",
            " [6 7 8]] \n",
            "\n",
            "\n",
            "[[ 7  8]\n",
            " [11 12]]\n"
          ]
        }
      ]
    },
    {
      "cell_type": "markdown",
      "source": [
        "# **Linspace** **and Meshgrid**\n",
        "\n",
        "linspace(starting from, ending to , how many points needed in output)"
      ],
      "metadata": {
        "id": "ZMICVDnjXGTW"
      }
    },
    {
      "cell_type": "code",
      "source": [
        "l1=np.linspace(-5,5,5)\n",
        "print(l1)\n",
        "l2=np.linspace(-5,5,5)\n",
        "print(l2)"
      ],
      "metadata": {
        "colab": {
          "base_uri": "https://localhost:8080/"
        },
        "id": "L062sd1TXWtw",
        "outputId": "18773943-958d-4e7c-9303-37d36e96d45e"
      },
      "execution_count": null,
      "outputs": [
        {
          "output_type": "stream",
          "name": "stdout",
          "text": [
            "[-5.  -2.5  0.   2.5  5. ]\n",
            "[-5.  -2.5  0.   2.5  5. ]\n"
          ]
        }
      ]
    },
    {
      "cell_type": "code",
      "source": [
        "x,y=np.meshgrid(l1,l2)\n",
        "print(x,'\\n\\n\\n')\n",
        "print(y)"
      ],
      "metadata": {
        "colab": {
          "base_uri": "https://localhost:8080/"
        },
        "id": "xrdTyx4mCDkJ",
        "outputId": "bd32de5d-adaf-48d9-fad3-0b9b1fab0eb0"
      },
      "execution_count": null,
      "outputs": [
        {
          "output_type": "stream",
          "name": "stdout",
          "text": [
            "[[-5.  -2.5  0.   2.5  5. ]\n",
            " [-5.  -2.5  0.   2.5  5. ]\n",
            " [-5.  -2.5  0.   2.5  5. ]\n",
            " [-5.  -2.5  0.   2.5  5. ]\n",
            " [-5.  -2.5  0.   2.5  5. ]] \n",
            "\n",
            "\n",
            "\n",
            "[[-5.  -5.  -5.  -5.  -5. ]\n",
            " [-2.5 -2.5 -2.5 -2.5 -2.5]\n",
            " [ 0.   0.   0.   0.   0. ]\n",
            " [ 2.5  2.5  2.5  2.5  2.5]\n",
            " [ 5.   5.   5.   5.   5. ]]\n"
          ]
        }
      ]
    }
  ]
}
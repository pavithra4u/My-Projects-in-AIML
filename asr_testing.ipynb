{
  "nbformat": 4,
  "nbformat_minor": 0,
  "metadata": {
    "colab": {
      "provenance": []
    },
    "kernelspec": {
      "name": "python3",
      "display_name": "Python 3"
    },
    "language_info": {
      "name": "python"
    }
  },
  "cells": [
    {
      "cell_type": "code",
      "execution_count": null,
      "metadata": {
        "colab": {
          "base_uri": "https://localhost:8080/"
        },
        "id": "wc7E2el_hq6r",
        "outputId": "ceb3880a-7db1-44e9-a646-cd066d1c6b24"
      },
      "outputs": [
        {
          "output_type": "stream",
          "name": "stdout",
          "text": [
            "Collecting SpeechRecognition\n",
            "  Downloading SpeechRecognition-3.10.1-py2.py3-none-any.whl (32.8 MB)\n",
            "\u001b[2K     \u001b[90m━━━━━━━━━━━━━━━━━━━━━━━━━━━━━━━━━━━━━━━━\u001b[0m \u001b[32m32.8/32.8 MB\u001b[0m \u001b[31m23.7 MB/s\u001b[0m eta \u001b[36m0:00:00\u001b[0m\n",
            "\u001b[?25hRequirement already satisfied: requests>=2.26.0 in /usr/local/lib/python3.10/dist-packages (from SpeechRecognition) (2.31.0)\n",
            "Requirement already satisfied: typing-extensions in /usr/local/lib/python3.10/dist-packages (from SpeechRecognition) (4.9.0)\n",
            "Requirement already satisfied: charset-normalizer<4,>=2 in /usr/local/lib/python3.10/dist-packages (from requests>=2.26.0->SpeechRecognition) (3.3.2)\n",
            "Requirement already satisfied: idna<4,>=2.5 in /usr/local/lib/python3.10/dist-packages (from requests>=2.26.0->SpeechRecognition) (3.6)\n",
            "Requirement already satisfied: urllib3<3,>=1.21.1 in /usr/local/lib/python3.10/dist-packages (from requests>=2.26.0->SpeechRecognition) (2.0.7)\n",
            "Requirement already satisfied: certifi>=2017.4.17 in /usr/local/lib/python3.10/dist-packages (from requests>=2.26.0->SpeechRecognition) (2024.2.2)\n",
            "Installing collected packages: SpeechRecognition\n",
            "Successfully installed SpeechRecognition-3.10.1\n"
          ]
        }
      ],
      "source": [
        "pip install SpeechRecognition"
      ]
    },
    {
      "cell_type": "code",
      "source": [
        "pip install joblib"
      ],
      "metadata": {
        "colab": {
          "base_uri": "https://localhost:8080/"
        },
        "id": "lCSdGs1Shz35",
        "outputId": "c42254da-19a9-4f20-b575-13b34a7c6a97"
      },
      "execution_count": null,
      "outputs": [
        {
          "output_type": "stream",
          "name": "stdout",
          "text": [
            "Requirement already satisfied: joblib in /usr/local/lib/python3.10/dist-packages (1.3.2)\n"
          ]
        }
      ]
    },
    {
      "cell_type": "code",
      "source": [
        "import glob\n",
        "import speech_recognition as sr\n",
        "import joblib\n",
        "import os\n",
        "import sys"
      ],
      "metadata": {
        "id": "Nhcqzw0Xh3Gr"
      },
      "execution_count": null,
      "outputs": []
    },
    {
      "cell_type": "code",
      "source": [
        "r = sr.Recognizer()\n",
        "wav_path= \"/content/000950469.wav\"\n",
        "lang_id=\"te-IN\""
      ],
      "metadata": {
        "id": "Pleqe2zuh9IL"
      },
      "execution_count": null,
      "outputs": []
    },
    {
      "cell_type": "code",
      "source": [
        "def calling_asr(wav_file,lid):\n",
        "    AUDIO_FILE=wav_file\n",
        "    # aud_name=AUDIO_FILE.split('/')[-1].split('.')[0]\n",
        "    #file=open(wav_path+\"/\"+aud_name+\".txt\",\"w\")\n",
        "    text=\"cant read wav file\"\n",
        "    try:\n",
        "        with sr.AudioFile(AUDIO_FILE) as source:\n",
        "            audio = r.record(source)\n",
        "        print (audio)\n",
        "        text = r.recognize_google(audio, language=lid)\n",
        "        #file.write(aud_name +\"\\t\"+text)\n",
        "        return text\n",
        "    except:\n",
        "        #file.write(\" \"+\"Error in segement\"+\" \")\n",
        "        return text\n",
        "    #file.close()\n",
        "\n",
        "asr_out=calling_asr(wav_path,lang_id)\n",
        "print(\"asr_out\",asr_out)\n"
      ],
      "metadata": {
        "colab": {
          "base_uri": "https://localhost:8080/"
        },
        "id": "6beaPlvrt8xv",
        "outputId": "b267b5f5-01fd-4a9f-9bdd-71e01db63124"
      },
      "execution_count": null,
      "outputs": [
        {
          "output_type": "stream",
          "name": "stdout",
          "text": [
            "<speech_recognition.audio.AudioData object at 0x7f0154f03bb0>\n",
            "asr_out అయితే కచ్చితంగా చెప్పలేదు\n"
          ]
        }
      ]
    },
    {
      "cell_type": "code",
      "source": [
        "def read_text_from_file(file_path):\n",
        "    with open(file_path, 'r') as file:\n",
        "        text = file.read().strip()\n",
        "    return text"
      ],
      "metadata": {
        "id": "hOtC9oknaGG8"
      },
      "execution_count": null,
      "outputs": []
    },
    {
      "cell_type": "code",
      "source": [
        "def calculate_wer(hypothesis, reference):\n",
        "    # Convert hypothesis and reference strings to lists of words\n",
        "    hypothesis_words = hypothesis.split()\n",
        "    reference_words = reference.split()\n",
        "\n",
        "    # Calculate WER\n",
        "    wer = 0\n",
        "    for h, r in zip(hypothesis_words, reference_words):\n",
        "        if h != r:\n",
        "            wer += 1\n",
        "    wer /= len(reference_words)\n",
        "    return wer"
      ],
      "metadata": {
        "id": "iaT1e7zfaIPq"
      },
      "execution_count": null,
      "outputs": []
    },
    {
      "cell_type": "code",
      "source": [
        "def perform_asr(wav_file, language):\n",
        "    r = sr.Recognizer()\n",
        "    try:\n",
        "        with sr.AudioFile(wav_file) as source:\n",
        "            audio = r.record(source)\n",
        "        text = r.recognize_google(audio, language=language)\n",
        "        return text\n",
        "    except sr.UnknownValueError:\n",
        "        print(\"Could not understand audio\")\n",
        "        return \"\"\n",
        "    except sr.RequestError as e:\n",
        "        print(\"Could not request results; {0}\".format(e))\n",
        "        return \"\""
      ],
      "metadata": {
        "id": "ddXGrceraNAg"
      },
      "execution_count": null,
      "outputs": []
    },
    {
      "cell_type": "code",
      "source": [
        "if __name__ == \"__main__\":\n",
        "    # Get paths to the WAV file and the text file\n",
        "    wav_path = \"/content/000950469.wav\"\n",
        "    text_file_path = \"/content/test2.txt\"\n",
        "\n",
        "    # Read text from the file\n",
        "    reference_text = read_text_from_file(text_file_path)\n",
        "\n",
        "    # Perform ASR on the WAV file\n",
        "    asr_output = perform_asr(wav_path, 'te-IN')  # Adjust language as needed\n",
        "\n",
        "    # Calculate Word Error Rate (WER)\n",
        "    wer = calculate_wer(asr_output, reference_text)\n",
        "    print(\"Word Error Rate (WER):\", wer)"
      ],
      "metadata": {
        "colab": {
          "base_uri": "https://localhost:8080/"
        },
        "id": "7tflNWi7avBH",
        "outputId": "8e93319b-ac0b-442d-c25b-b817485568ba"
      },
      "execution_count": null,
      "outputs": [
        {
          "output_type": "stream",
          "name": "stdout",
          "text": [
            "Word Error Rate (WER): 0.3333333333333333\n"
          ]
        }
      ]
    }
  ]
}